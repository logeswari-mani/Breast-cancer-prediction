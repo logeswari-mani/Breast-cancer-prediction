{
 "cells": [
  {
   "cell_type": "markdown",
   "id": "f2894167",
   "metadata": {},
   "source": [
    "# Breast Cancer prediction"
   ]
  },
  {
   "cell_type": "markdown",
   "id": "de27ee5d",
   "metadata": {},
   "source": [
    "## Importing Required libraries "
   ]
  },
  {
   "cell_type": "code",
   "execution_count": 1,
   "id": "0942c42b",
   "metadata": {},
   "outputs": [],
   "source": [
    "import pandas as pd\n",
    "import numpy as np\n",
    "import matplotlib.pyplot as plt\n",
    "from scipy import stats\n",
    "import seaborn as sns\n",
    "import statsmodels.api as sm"
   ]
  },
  {
   "cell_type": "code",
   "execution_count": 2,
   "id": "8a7ca1fe",
   "metadata": {},
   "outputs": [],
   "source": [
    "columns=[\"sam_code_num\",\"Clump_thick\",\"Uni_of_Cell_Size\",\"Uni_of_Cell_Shape\",\"Marginal_Adhesion\",\"Single_Epithelial_Cell_Size\",\"Bare_Nuclei\",\"Bland_Chromatin\",\"Normal_Nucleoli\",\"Mitoes\",\"Class\"]\n",
    "data=pd.read_csv(\"https://archive.ics.uci.edu/ml/machine-learning-databases/breast-cancer-wisconsin/breast-cancer-wisconsin.data\",names=columns,na_values=\"?\")"
   ]
  },
  {
   "cell_type": "code",
   "execution_count": 3,
   "id": "c5025372",
   "metadata": {},
   "outputs": [
    {
     "data": {
      "text/html": [
       "<div>\n",
       "<style scoped>\n",
       "    .dataframe tbody tr th:only-of-type {\n",
       "        vertical-align: middle;\n",
       "    }\n",
       "\n",
       "    .dataframe tbody tr th {\n",
       "        vertical-align: top;\n",
       "    }\n",
       "\n",
       "    .dataframe thead th {\n",
       "        text-align: right;\n",
       "    }\n",
       "</style>\n",
       "<table border=\"1\" class=\"dataframe\">\n",
       "  <thead>\n",
       "    <tr style=\"text-align: right;\">\n",
       "      <th></th>\n",
       "      <th>sam_code_num</th>\n",
       "      <th>Clump_thick</th>\n",
       "      <th>Uni_of_Cell_Size</th>\n",
       "      <th>Uni_of_Cell_Shape</th>\n",
       "      <th>Marginal_Adhesion</th>\n",
       "      <th>Single_Epithelial_Cell_Size</th>\n",
       "      <th>Bare_Nuclei</th>\n",
       "      <th>Bland_Chromatin</th>\n",
       "      <th>Normal_Nucleoli</th>\n",
       "      <th>Mitoes</th>\n",
       "      <th>Class</th>\n",
       "    </tr>\n",
       "  </thead>\n",
       "  <tbody>\n",
       "    <tr>\n",
       "      <th>0</th>\n",
       "      <td>1000025</td>\n",
       "      <td>5</td>\n",
       "      <td>1</td>\n",
       "      <td>1</td>\n",
       "      <td>1</td>\n",
       "      <td>2</td>\n",
       "      <td>1.0</td>\n",
       "      <td>3</td>\n",
       "      <td>1</td>\n",
       "      <td>1</td>\n",
       "      <td>2</td>\n",
       "    </tr>\n",
       "    <tr>\n",
       "      <th>1</th>\n",
       "      <td>1002945</td>\n",
       "      <td>5</td>\n",
       "      <td>4</td>\n",
       "      <td>4</td>\n",
       "      <td>5</td>\n",
       "      <td>7</td>\n",
       "      <td>10.0</td>\n",
       "      <td>3</td>\n",
       "      <td>2</td>\n",
       "      <td>1</td>\n",
       "      <td>2</td>\n",
       "    </tr>\n",
       "    <tr>\n",
       "      <th>2</th>\n",
       "      <td>1015425</td>\n",
       "      <td>3</td>\n",
       "      <td>1</td>\n",
       "      <td>1</td>\n",
       "      <td>1</td>\n",
       "      <td>2</td>\n",
       "      <td>2.0</td>\n",
       "      <td>3</td>\n",
       "      <td>1</td>\n",
       "      <td>1</td>\n",
       "      <td>2</td>\n",
       "    </tr>\n",
       "    <tr>\n",
       "      <th>3</th>\n",
       "      <td>1016277</td>\n",
       "      <td>6</td>\n",
       "      <td>8</td>\n",
       "      <td>8</td>\n",
       "      <td>1</td>\n",
       "      <td>3</td>\n",
       "      <td>4.0</td>\n",
       "      <td>3</td>\n",
       "      <td>7</td>\n",
       "      <td>1</td>\n",
       "      <td>2</td>\n",
       "    </tr>\n",
       "    <tr>\n",
       "      <th>4</th>\n",
       "      <td>1017023</td>\n",
       "      <td>4</td>\n",
       "      <td>1</td>\n",
       "      <td>1</td>\n",
       "      <td>3</td>\n",
       "      <td>2</td>\n",
       "      <td>1.0</td>\n",
       "      <td>3</td>\n",
       "      <td>1</td>\n",
       "      <td>1</td>\n",
       "      <td>2</td>\n",
       "    </tr>\n",
       "  </tbody>\n",
       "</table>\n",
       "</div>"
      ],
      "text/plain": [
       "   sam_code_num  Clump_thick  Uni_of_Cell_Size  Uni_of_Cell_Shape  \\\n",
       "0       1000025            5                 1                  1   \n",
       "1       1002945            5                 4                  4   \n",
       "2       1015425            3                 1                  1   \n",
       "3       1016277            6                 8                  8   \n",
       "4       1017023            4                 1                  1   \n",
       "\n",
       "   Marginal_Adhesion  Single_Epithelial_Cell_Size  Bare_Nuclei  \\\n",
       "0                  1                            2          1.0   \n",
       "1                  5                            7         10.0   \n",
       "2                  1                            2          2.0   \n",
       "3                  1                            3          4.0   \n",
       "4                  3                            2          1.0   \n",
       "\n",
       "   Bland_Chromatin  Normal_Nucleoli  Mitoes  Class  \n",
       "0                3                1       1      2  \n",
       "1                3                2       1      2  \n",
       "2                3                1       1      2  \n",
       "3                3                7       1      2  \n",
       "4                3                1       1      2  "
      ]
     },
     "execution_count": 3,
     "metadata": {},
     "output_type": "execute_result"
    }
   ],
   "source": [
    "data.head()"
   ]
  },
  {
   "cell_type": "code",
   "execution_count": 4,
   "id": "4a5ce7f6",
   "metadata": {
    "scrolled": true
   },
   "outputs": [
    {
     "data": {
      "text/html": [
       "<div>\n",
       "<style scoped>\n",
       "    .dataframe tbody tr th:only-of-type {\n",
       "        vertical-align: middle;\n",
       "    }\n",
       "\n",
       "    .dataframe tbody tr th {\n",
       "        vertical-align: top;\n",
       "    }\n",
       "\n",
       "    .dataframe thead th {\n",
       "        text-align: right;\n",
       "    }\n",
       "</style>\n",
       "<table border=\"1\" class=\"dataframe\">\n",
       "  <thead>\n",
       "    <tr style=\"text-align: right;\">\n",
       "      <th></th>\n",
       "      <th>sam_code_num</th>\n",
       "      <th>Clump_thick</th>\n",
       "      <th>Uni_of_Cell_Size</th>\n",
       "      <th>Uni_of_Cell_Shape</th>\n",
       "      <th>Marginal_Adhesion</th>\n",
       "      <th>Single_Epithelial_Cell_Size</th>\n",
       "      <th>Bare_Nuclei</th>\n",
       "      <th>Bland_Chromatin</th>\n",
       "      <th>Normal_Nucleoli</th>\n",
       "      <th>Mitoes</th>\n",
       "      <th>Class</th>\n",
       "    </tr>\n",
       "  </thead>\n",
       "  <tbody>\n",
       "    <tr>\n",
       "      <th>694</th>\n",
       "      <td>776715</td>\n",
       "      <td>3</td>\n",
       "      <td>1</td>\n",
       "      <td>1</td>\n",
       "      <td>1</td>\n",
       "      <td>3</td>\n",
       "      <td>2.0</td>\n",
       "      <td>1</td>\n",
       "      <td>1</td>\n",
       "      <td>1</td>\n",
       "      <td>2</td>\n",
       "    </tr>\n",
       "    <tr>\n",
       "      <th>695</th>\n",
       "      <td>841769</td>\n",
       "      <td>2</td>\n",
       "      <td>1</td>\n",
       "      <td>1</td>\n",
       "      <td>1</td>\n",
       "      <td>2</td>\n",
       "      <td>1.0</td>\n",
       "      <td>1</td>\n",
       "      <td>1</td>\n",
       "      <td>1</td>\n",
       "      <td>2</td>\n",
       "    </tr>\n",
       "    <tr>\n",
       "      <th>696</th>\n",
       "      <td>888820</td>\n",
       "      <td>5</td>\n",
       "      <td>10</td>\n",
       "      <td>10</td>\n",
       "      <td>3</td>\n",
       "      <td>7</td>\n",
       "      <td>3.0</td>\n",
       "      <td>8</td>\n",
       "      <td>10</td>\n",
       "      <td>2</td>\n",
       "      <td>4</td>\n",
       "    </tr>\n",
       "    <tr>\n",
       "      <th>697</th>\n",
       "      <td>897471</td>\n",
       "      <td>4</td>\n",
       "      <td>8</td>\n",
       "      <td>6</td>\n",
       "      <td>4</td>\n",
       "      <td>3</td>\n",
       "      <td>4.0</td>\n",
       "      <td>10</td>\n",
       "      <td>6</td>\n",
       "      <td>1</td>\n",
       "      <td>4</td>\n",
       "    </tr>\n",
       "    <tr>\n",
       "      <th>698</th>\n",
       "      <td>897471</td>\n",
       "      <td>4</td>\n",
       "      <td>8</td>\n",
       "      <td>8</td>\n",
       "      <td>5</td>\n",
       "      <td>4</td>\n",
       "      <td>5.0</td>\n",
       "      <td>10</td>\n",
       "      <td>4</td>\n",
       "      <td>1</td>\n",
       "      <td>4</td>\n",
       "    </tr>\n",
       "  </tbody>\n",
       "</table>\n",
       "</div>"
      ],
      "text/plain": [
       "     sam_code_num  Clump_thick  Uni_of_Cell_Size  Uni_of_Cell_Shape  \\\n",
       "694        776715            3                 1                  1   \n",
       "695        841769            2                 1                  1   \n",
       "696        888820            5                10                 10   \n",
       "697        897471            4                 8                  6   \n",
       "698        897471            4                 8                  8   \n",
       "\n",
       "     Marginal_Adhesion  Single_Epithelial_Cell_Size  Bare_Nuclei  \\\n",
       "694                  1                            3          2.0   \n",
       "695                  1                            2          1.0   \n",
       "696                  3                            7          3.0   \n",
       "697                  4                            3          4.0   \n",
       "698                  5                            4          5.0   \n",
       "\n",
       "     Bland_Chromatin  Normal_Nucleoli  Mitoes  Class  \n",
       "694                1                1       1      2  \n",
       "695                1                1       1      2  \n",
       "696                8               10       2      4  \n",
       "697               10                6       1      4  \n",
       "698               10                4       1      4  "
      ]
     },
     "execution_count": 4,
     "metadata": {},
     "output_type": "execute_result"
    }
   ],
   "source": [
    "data.tail()"
   ]
  },
  {
   "cell_type": "code",
   "execution_count": 5,
   "id": "4beede50",
   "metadata": {},
   "outputs": [
    {
     "name": "stdout",
     "output_type": "stream",
     "text": [
      "<class 'pandas.core.frame.DataFrame'>\n",
      "RangeIndex: 699 entries, 0 to 698\n",
      "Data columns (total 11 columns):\n",
      " #   Column                       Non-Null Count  Dtype  \n",
      "---  ------                       --------------  -----  \n",
      " 0   sam_code_num                 699 non-null    int64  \n",
      " 1   Clump_thick                  699 non-null    int64  \n",
      " 2   Uni_of_Cell_Size             699 non-null    int64  \n",
      " 3   Uni_of_Cell_Shape            699 non-null    int64  \n",
      " 4   Marginal_Adhesion            699 non-null    int64  \n",
      " 5   Single_Epithelial_Cell_Size  699 non-null    int64  \n",
      " 6   Bare_Nuclei                  683 non-null    float64\n",
      " 7   Bland_Chromatin              699 non-null    int64  \n",
      " 8   Normal_Nucleoli              699 non-null    int64  \n",
      " 9   Mitoes                       699 non-null    int64  \n",
      " 10  Class                        699 non-null    int64  \n",
      "dtypes: float64(1), int64(10)\n",
      "memory usage: 60.2 KB\n"
     ]
    }
   ],
   "source": [
    "data.info()"
   ]
  },
  {
   "cell_type": "code",
   "execution_count": 6,
   "id": "a5dc4eb7",
   "metadata": {},
   "outputs": [
    {
     "data": {
      "text/plain": [
       "(699, 11)"
      ]
     },
     "execution_count": 6,
     "metadata": {},
     "output_type": "execute_result"
    }
   ],
   "source": [
    "data.shape"
   ]
  },
  {
   "cell_type": "code",
   "execution_count": 7,
   "id": "3248c1a8",
   "metadata": {
    "scrolled": true
   },
   "outputs": [
    {
     "data": {
      "text/plain": [
       "Index(['sam_code_num', 'Clump_thick', 'Uni_of_Cell_Size', 'Uni_of_Cell_Shape',\n",
       "       'Marginal_Adhesion', 'Single_Epithelial_Cell_Size', 'Bare_Nuclei',\n",
       "       'Bland_Chromatin', 'Normal_Nucleoli', 'Mitoes', 'Class'],\n",
       "      dtype='object')"
      ]
     },
     "execution_count": 7,
     "metadata": {},
     "output_type": "execute_result"
    }
   ],
   "source": [
    "data.columns"
   ]
  },
  {
   "cell_type": "markdown",
   "id": "e8a38f89",
   "metadata": {},
   "source": [
    "## Handling missing data"
   ]
  },
  {
   "cell_type": "markdown",
   "id": "e99cb6b9",
   "metadata": {},
   "source": [
    "## Cleaning data"
   ]
  },
  {
   "cell_type": "code",
   "execution_count": 8,
   "id": "8109f624",
   "metadata": {},
   "outputs": [
    {
     "data": {
      "text/plain": [
       "sam_code_num                    0\n",
       "Clump_thick                     0\n",
       "Uni_of_Cell_Size                0\n",
       "Uni_of_Cell_Shape               0\n",
       "Marginal_Adhesion               0\n",
       "Single_Epithelial_Cell_Size     0\n",
       "Bare_Nuclei                    16\n",
       "Bland_Chromatin                 0\n",
       "Normal_Nucleoli                 0\n",
       "Mitoes                          0\n",
       "Class                           0\n",
       "dtype: int64"
      ]
     },
     "execution_count": 8,
     "metadata": {},
     "output_type": "execute_result"
    }
   ],
   "source": [
    "data.isnull().sum()"
   ]
  },
  {
   "cell_type": "code",
   "execution_count": 9,
   "id": "c1343473",
   "metadata": {},
   "outputs": [
    {
     "data": {
      "text/plain": [
       "array([ 1., 10.,  2.,  4.,  3.,  9.,  7., nan,  5.,  8.,  6.])"
      ]
     },
     "execution_count": 9,
     "metadata": {},
     "output_type": "execute_result"
    }
   ],
   "source": [
    "data.Bare_Nuclei.unique()"
   ]
  },
  {
   "cell_type": "code",
   "execution_count": 10,
   "id": "ee3d96cb",
   "metadata": {},
   "outputs": [
    {
     "data": {
      "text/plain": [
       "count    683.000000\n",
       "mean       3.544656\n",
       "std        3.643857\n",
       "min        1.000000\n",
       "25%        1.000000\n",
       "50%        1.000000\n",
       "75%        6.000000\n",
       "max       10.000000\n",
       "Name: Bare_Nuclei, dtype: float64"
      ]
     },
     "execution_count": 10,
     "metadata": {},
     "output_type": "execute_result"
    }
   ],
   "source": [
    "data.Bare_Nuclei.describe()"
   ]
  },
  {
   "cell_type": "code",
   "execution_count": 11,
   "id": "8b6e89af",
   "metadata": {},
   "outputs": [],
   "source": [
    "# Filling the missing values with mean since it is an cont.\n",
    "data.Bare_Nuclei.fillna(3.544656,inplace=True)"
   ]
  },
  {
   "cell_type": "code",
   "execution_count": 12,
   "id": "7a8e6246",
   "metadata": {},
   "outputs": [
    {
     "data": {
      "text/plain": [
       "0"
      ]
     },
     "execution_count": 12,
     "metadata": {},
     "output_type": "execute_result"
    }
   ],
   "source": [
    "data.Bare_Nuclei.isnull().sum()"
   ]
  },
  {
   "cell_type": "code",
   "execution_count": 13,
   "id": "802385c4",
   "metadata": {},
   "outputs": [
    {
     "data": {
      "text/plain": [
       "sam_code_num                   0\n",
       "Clump_thick                    0\n",
       "Uni_of_Cell_Size               0\n",
       "Uni_of_Cell_Shape              0\n",
       "Marginal_Adhesion              0\n",
       "Single_Epithelial_Cell_Size    0\n",
       "Bare_Nuclei                    0\n",
       "Bland_Chromatin                0\n",
       "Normal_Nucleoli                0\n",
       "Mitoes                         0\n",
       "Class                          0\n",
       "dtype: int64"
      ]
     },
     "execution_count": 13,
     "metadata": {},
     "output_type": "execute_result"
    }
   ],
   "source": [
    "data.isnull().sum()"
   ]
  },
  {
   "cell_type": "code",
   "execution_count": 14,
   "id": "1285b34f",
   "metadata": {},
   "outputs": [
    {
     "data": {
      "text/plain": [
       "count    699.000000\n",
       "mean       4.417740\n",
       "std        2.815741\n",
       "min        1.000000\n",
       "25%        2.000000\n",
       "50%        4.000000\n",
       "75%        6.000000\n",
       "max       10.000000\n",
       "Name: Clump_thick, dtype: float64"
      ]
     },
     "execution_count": 14,
     "metadata": {},
     "output_type": "execute_result"
    }
   ],
   "source": [
    "data.Clump_thick.describe()"
   ]
  },
  {
   "cell_type": "code",
   "execution_count": 15,
   "id": "6aa56538",
   "metadata": {
    "scrolled": true
   },
   "outputs": [
    {
     "name": "stdout",
     "output_type": "stream",
     "text": [
      "<class 'pandas.core.frame.DataFrame'>\n",
      "RangeIndex: 699 entries, 0 to 698\n",
      "Data columns (total 11 columns):\n",
      " #   Column                       Non-Null Count  Dtype  \n",
      "---  ------                       --------------  -----  \n",
      " 0   sam_code_num                 699 non-null    int64  \n",
      " 1   Clump_thick                  699 non-null    int64  \n",
      " 2   Uni_of_Cell_Size             699 non-null    int64  \n",
      " 3   Uni_of_Cell_Shape            699 non-null    int64  \n",
      " 4   Marginal_Adhesion            699 non-null    int64  \n",
      " 5   Single_Epithelial_Cell_Size  699 non-null    int64  \n",
      " 6   Bare_Nuclei                  699 non-null    float64\n",
      " 7   Bland_Chromatin              699 non-null    int64  \n",
      " 8   Normal_Nucleoli              699 non-null    int64  \n",
      " 9   Mitoes                       699 non-null    int64  \n",
      " 10  Class                        699 non-null    int64  \n",
      "dtypes: float64(1), int64(10)\n",
      "memory usage: 60.2 KB\n"
     ]
    }
   ],
   "source": [
    "data.info()"
   ]
  },
  {
   "cell_type": "markdown",
   "id": "0f1f0349",
   "metadata": {},
   "source": [
    "## Visualization"
   ]
  },
  {
   "cell_type": "code",
   "execution_count": 16,
   "id": "be8e632e",
   "metadata": {
    "scrolled": true
   },
   "outputs": [
    {
     "data": {
      "text/plain": [
       "{'whiskers': [<matplotlib.lines.Line2D at 0x22ad101dee0>,\n",
       "  <matplotlib.lines.Line2D at 0x22ad103a1f0>],\n",
       " 'caps': [<matplotlib.lines.Line2D at 0x22ad103a580>,\n",
       "  <matplotlib.lines.Line2D at 0x22ad103a910>],\n",
       " 'boxes': [<matplotlib.lines.Line2D at 0x22ad101da90>],\n",
       " 'medians': [<matplotlib.lines.Line2D at 0x22ad103aca0>],\n",
       " 'fliers': [<matplotlib.lines.Line2D at 0x22ad1046070>],\n",
       " 'means': []}"
      ]
     },
     "execution_count": 16,
     "metadata": {},
     "output_type": "execute_result"
    },
    {
     "data": {
      "image/png": "[encoded data removed]",
      "text/plain": [
       "<Figure size 432x288 with 1 Axes>"
      ]
     },
     "metadata": {
      "needs_background": "light"
     },
     "output_type": "display_data"
    }
   ],
   "source": [
    "plt.boxplot(data.Bare_Nuclei)"
   ]
  },
  {
   "cell_type": "markdown",
   "id": "8d6b2e4c",
   "metadata": {},
   "source": [
    "## Splitting into test and train "
   ]
  },
  {
   "cell_type": "code",
   "execution_count": 17,
   "id": "bd762da5",
   "metadata": {},
   "outputs": [],
   "source": [
    "from sklearn.model_selection import train_test_split"
   ]
  },
  {
   "cell_type": "code",
   "execution_count": 18,
   "id": "6c26650e",
   "metadata": {},
   "outputs": [
    {
     "name": "stdout",
     "output_type": "stream",
     "text": [
      "0      2\n",
      "1      2\n",
      "2      2\n",
      "3      2\n",
      "4      2\n",
      "      ..\n",
      "694    2\n",
      "695    2\n",
      "696    4\n",
      "697    4\n",
      "698    4\n",
      "Name: Class, Length: 699, dtype: int64\n"
     ]
    }
   ],
   "source": [
    "y=data.Class\n",
    "print(y)"
   ]
  },
  {
   "cell_type": "code",
   "execution_count": 19,
   "id": "08cec176",
   "metadata": {},
   "outputs": [
    {
     "name": "stdout",
     "output_type": "stream",
     "text": [
      "     sam_code_num  Clump_thick  Uni_of_Cell_Size  Uni_of_Cell_Shape  \\\n",
      "0         1000025            5                 1                  1   \n",
      "1         1002945            5                 4                  4   \n",
      "2         1015425            3                 1                  1   \n",
      "3         1016277            6                 8                  8   \n",
      "4         1017023            4                 1                  1   \n",
      "..            ...          ...               ...                ...   \n",
      "694        776715            3                 1                  1   \n",
      "695        841769            2                 1                  1   \n",
      "696        888820            5                10                 10   \n",
      "697        897471            4                 8                  6   \n",
      "698        897471            4                 8                  8   \n",
      "\n",
      "     Marginal_Adhesion  Single_Epithelial_Cell_Size  Bare_Nuclei  \\\n",
      "0                    1                            2          1.0   \n",
      "1                    5                            7         10.0   \n",
      "2                    1                            2          2.0   \n",
      "3                    1                            3          4.0   \n",
      "4                    3                            2          1.0   \n",
      "..                 ...                          ...          ...   \n",
      "694                  1                            3          2.0   \n",
      "695                  1                            2          1.0   \n",
      "696                  3                            7          3.0   \n",
      "697                  4                            3          4.0   \n",
      "698                  5                            4          5.0   \n",
      "\n",
      "     Bland_Chromatin  Normal_Nucleoli  Mitoes  \n",
      "0                  3                1       1  \n",
      "1                  3                2       1  \n",
      "2                  3                1       1  \n",
      "3                  3                7       1  \n",
      "4                  3                1       1  \n",
      "..               ...              ...     ...  \n",
      "694                1                1       1  \n",
      "695                1                1       1  \n",
      "696                8               10       2  \n",
      "697               10                6       1  \n",
      "698               10                4       1  \n",
      "\n",
      "[699 rows x 10 columns]\n"
     ]
    }
   ],
   "source": [
    "x=data.drop('Class',axis=1)\n",
    "print(x)"
   ]
  },
  {
   "cell_type": "code",
   "execution_count": 20,
   "id": "4b3fc0cb",
   "metadata": {},
   "outputs": [],
   "source": [
    "train_x,test_x,train_y,test_y=train_test_split(x,y,train_size=0.8,test_size=0.2,random_state =100)"
   ]
  },
  {
   "cell_type": "code",
   "execution_count": 21,
   "id": "b5bc59ed",
   "metadata": {
    "scrolled": true
   },
   "outputs": [
    {
     "name": "stdout",
     "output_type": "stream",
     "text": [
      "     sam_code_num  Clump_thick  Uni_of_Cell_Size  Uni_of_Cell_Shape  \\\n",
      "491       1119189            5                 8                  9   \n",
      "614       1031608            2                 1                  1   \n",
      "277        452264            1                 1                  1   \n",
      "404       1223543            1                 2                  1   \n",
      "529       8233704            4                 1                  1   \n",
      "..            ...          ...               ...                ...   \n",
      "578        695219            1                 1                  1   \n",
      "53        1110503            5                 5                  5   \n",
      "350        836433            5                 1                  1   \n",
      "79        1136142            2                 1                  1   \n",
      "520        333093            1                 1                  1   \n",
      "\n",
      "     Marginal_Adhesion  Single_Epithelial_Cell_Size  Bare_Nuclei  \\\n",
      "491                  4                            3         10.0   \n",
      "614                  1                            1          1.0   \n",
      "277                  1                            2          1.0   \n",
      "404                  3                            2          1.0   \n",
      "529                  1                            1          1.0   \n",
      "..                 ...                          ...          ...   \n",
      "578                  1                            2          1.0   \n",
      "53                   8                           10          8.0   \n",
      "350                  3                            2          1.0   \n",
      "79                   1                            3          1.0   \n",
      "520                  1                            3          1.0   \n",
      "\n",
      "     Bland_Chromatin  Normal_Nucleoli  Mitoes  \n",
      "491                7                1       1  \n",
      "614                2                1       1  \n",
      "277                2                1       1  \n",
      "404                1                2       1  \n",
      "529                2                1       1  \n",
      "..               ...              ...     ...  \n",
      "578                2                1       1  \n",
      "53                 7                3       7  \n",
      "350                1                1       1  \n",
      "79                 2                1       1  \n",
      "520                1                1       1  \n",
      "\n",
      "[559 rows x 10 columns]\n",
      "     sam_code_num  Clump_thick  Uni_of_Cell_Size  Uni_of_Cell_Shape  \\\n",
      "384       1026122            2                 1                  1   \n",
      "319        721482            4                 4                  4   \n",
      "227       1228152            8                 9                  9   \n",
      "421       1257200           10                10                 10   \n",
      "395       1168278            3                 1                  1   \n",
      "..            ...          ...               ...                ...   \n",
      "44        1103608           10                10                 10   \n",
      "358        866325            8                10                  5   \n",
      "31        1071760            2                 1                  1   \n",
      "264        314428            7                 9                  4   \n",
      "189       1208301            1                 2                  3   \n",
      "\n",
      "     Marginal_Adhesion  Single_Epithelial_Cell_Size  Bare_Nuclei  \\\n",
      "384                  1                            2          1.0   \n",
      "319                  4                            6          5.0   \n",
      "227                  5                            3          5.0   \n",
      "421                  7                           10         10.0   \n",
      "395                  1                            2          1.0   \n",
      "..                 ...                          ...          ...   \n",
      "44                   4                            8          1.0   \n",
      "358                  3                            8          4.0   \n",
      "31                   1                            2          1.0   \n",
      "264                 10                           10          3.0   \n",
      "189                  1                            2          1.0   \n",
      "\n",
      "     Bland_Chromatin  Normal_Nucleoli  Mitoes  \n",
      "384                1                1       1  \n",
      "319                7                3       1  \n",
      "227                7                7       1  \n",
      "421                8                2       1  \n",
      "395                2                1       1  \n",
      "..               ...              ...     ...  \n",
      "44                 8               10       1  \n",
      "358                4               10       3  \n",
      "31                 3                1       1  \n",
      "264                5                3       3  \n",
      "189                3                1       1  \n",
      "\n",
      "[140 rows x 10 columns]\n",
      "491    4\n",
      "614    2\n",
      "277    2\n",
      "404    2\n",
      "529    2\n",
      "      ..\n",
      "578    2\n",
      "53     4\n",
      "350    2\n",
      "79     2\n",
      "520    2\n",
      "Name: Class, Length: 559, dtype: int64\n",
      "384    2\n",
      "319    2\n",
      "227    4\n",
      "421    4\n",
      "395    2\n",
      "      ..\n",
      "44     4\n",
      "358    4\n",
      "31     2\n",
      "264    4\n",
      "189    2\n",
      "Name: Class, Length: 140, dtype: int64\n"
     ]
    }
   ],
   "source": [
    "print(train_x)\n",
    "print(test_x)\n",
    "print(train_y)\n",
    "print(test_y)"
   ]
  },
  {
   "cell_type": "code",
   "execution_count": 22,
   "id": "40aea0a5",
   "metadata": {},
   "outputs": [
    {
     "data": {
      "text/plain": [
       "0.960644007155635"
      ]
     },
     "execution_count": 22,
     "metadata": {},
     "output_type": "execute_result"
    }
   ],
   "source": [
    "from sklearn.linear_model import LogisticRegression\n",
    "model = LogisticRegression().fit(train_x,train_y)\n",
    "model.score(train_x,train_y)"
   ]
  },
  {
   "cell_type": "code",
   "execution_count": 23,
   "id": "1ec51e8b",
   "metadata": {},
   "outputs": [
    {
     "name": "stdout",
     "output_type": "stream",
     "text": [
      "[2 4 4 4 2 2 2 2 4 4 4 2 2 2 4 2 2 4 2 4 4 2 2 2 4 4 4 2 2 4 2 4 2 4 4 2 4\n",
      " 2 4 2 2 2 2 2 2 4 2 2 2 2 4 2 2 4 4 2 2 2 2 2 2 2 4 4 4 2 4 2 2 4 2 4 2 4\n",
      " 4 2 2 2 4 2 2 2 2 2 4 4 2 2 2 4 2 4 2 2 4 4 2 2 2 2 4 4 4 4 4 4 2 2 4 2 2\n",
      " 2 2 2 2 2 4 4 4 4 2 4 2 2 2 2 2 4 2 2 4 4 2 4 4 4 4 2 4 2]\n"
     ]
    }
   ],
   "source": [
    "predicted_value=model.predict(test_x)\n",
    "print(predicted_value)"
   ]
  },
  {
   "cell_type": "code",
   "execution_count": 24,
   "id": "db1d41a2",
   "metadata": {
    "scrolled": false
   },
   "outputs": [
    {
     "name": "stdout",
     "output_type": "stream",
     "text": [
      "[[9.92946201e-01 7.05379931e-03]\n",
      " [1.68363856e-01 8.31636144e-01]\n",
      " [4.81545126e-04 9.99518455e-01]\n",
      " [4.13411657e-04 9.99586588e-01]\n",
      " [9.96742909e-01 3.25709126e-03]\n",
      " [9.94395340e-01 5.60465986e-03]\n",
      " [9.95584291e-01 4.41570937e-03]\n",
      " [9.97675591e-01 2.32440873e-03]\n",
      " [1.27655675e-01 8.72344325e-01]\n",
      " [2.10234983e-01 7.89765017e-01]\n",
      " [1.73131629e-03 9.98268684e-01]\n",
      " [9.98722898e-01 1.27710205e-03]\n",
      " [9.98534643e-01 1.46535741e-03]\n",
      " [9.96055554e-01 3.94444644e-03]\n",
      " [5.16578084e-04 9.99483422e-01]\n",
      " [9.97690400e-01 2.30960046e-03]\n",
      " [9.81239170e-01 1.87608297e-02]\n",
      " [9.64600209e-02 9.03539979e-01]\n",
      " [6.94607363e-01 3.05392637e-01]\n",
      " [2.92959452e-03 9.97070405e-01]\n",
      " [3.76520626e-07 9.99999623e-01]\n",
      " [9.99048953e-01 9.51046907e-04]\n",
      " [9.71796019e-01 2.82039809e-02]\n",
      " [9.67689296e-01 3.23107035e-02]\n",
      " [5.64584860e-05 9.99943542e-01]\n",
      " [1.40291050e-05 9.99985971e-01]\n",
      " [4.65136619e-04 9.99534863e-01]\n",
      " [9.81297352e-01 1.87026477e-02]\n",
      " [8.56046547e-01 1.43953453e-01]\n",
      " [5.81601373e-04 9.99418399e-01]\n",
      " [9.91351275e-01 8.64872453e-03]\n",
      " [3.79118185e-02 9.62088181e-01]\n",
      " [9.95412288e-01 4.58771196e-03]\n",
      " [3.65997343e-03 9.96340027e-01]\n",
      " [1.35970889e-02 9.86402911e-01]\n",
      " [7.44408947e-01 2.55591053e-01]\n",
      " [1.45656317e-02 9.85434368e-01]\n",
      " [9.94570356e-01 5.42964450e-03]\n",
      " [8.45755176e-03 9.91542448e-01]\n",
      " [9.98286374e-01 1.71362594e-03]\n",
      " [9.98740898e-01 1.25910154e-03]\n",
      " [9.67545631e-01 3.24543693e-02]\n",
      " [9.97640250e-01 2.35974975e-03]\n",
      " [8.44371940e-01 1.55628060e-01]\n",
      " [9.97982422e-01 2.01757833e-03]\n",
      " [2.60855162e-02 9.73914484e-01]\n",
      " [9.94420495e-01 5.57950539e-03]\n",
      " [9.17150742e-01 8.28492583e-02]\n",
      " [9.93200788e-01 6.79921230e-03]\n",
      " [9.94977035e-01 5.02296453e-03]\n",
      " [4.28755273e-01 5.71244727e-01]\n",
      " [9.95301816e-01 4.69818400e-03]\n",
      " [9.80468302e-01 1.95316983e-02]\n",
      " [1.56074293e-03 9.98439257e-01]\n",
      " [4.04082016e-03 9.95959180e-01]\n",
      " [9.97825537e-01 2.17446294e-03]\n",
      " [9.98524216e-01 1.47578404e-03]\n",
      " [9.95044765e-01 4.95523467e-03]\n",
      " [8.62916929e-01 1.37083071e-01]\n",
      " [9.96607851e-01 3.39214856e-03]\n",
      " [9.97541803e-01 2.45819652e-03]\n",
      " [9.95606927e-01 4.39307275e-03]\n",
      " [9.65073185e-03 9.90349268e-01]\n",
      " [2.63424516e-01 7.36575484e-01]\n",
      " [3.26054268e-03 9.96739457e-01]\n",
      " [5.84069641e-01 4.15930359e-01]\n",
      " [2.86136131e-05 9.99971386e-01]\n",
      " [9.98524294e-01 1.47570589e-03]\n",
      " [9.78045143e-01 2.19548571e-02]\n",
      " [1.06627108e-03 9.98933729e-01]\n",
      " [9.11582265e-01 8.84177348e-02]\n",
      " [7.23199864e-04 9.99276800e-01]\n",
      " [8.24146465e-01 1.75853535e-01]\n",
      " [7.18014818e-04 9.99281985e-01]\n",
      " [1.20810784e-06 9.99998792e-01]\n",
      " [9.91826755e-01 8.17324535e-03]\n",
      " [6.37972614e-01 3.62027386e-01]\n",
      " [9.97085012e-01 2.91498752e-03]\n",
      " [1.10319432e-05 9.99988968e-01]\n",
      " [6.85354620e-01 3.14645380e-01]\n",
      " [9.98727314e-01 1.27268590e-03]\n",
      " [9.72559411e-01 2.74405893e-02]\n",
      " [9.96211938e-01 3.78806171e-03]\n",
      " [9.72553613e-01 2.74463870e-02]\n",
      " [3.82749385e-03 9.96172506e-01]\n",
      " [1.57900415e-01 8.42099585e-01]\n",
      " [9.97500093e-01 2.49990694e-03]\n",
      " [9.96019364e-01 3.98063564e-03]\n",
      " [9.83207724e-01 1.67922756e-02]\n",
      " [2.64436837e-04 9.99735563e-01]\n",
      " [9.98122299e-01 1.87770134e-03]\n",
      " [1.49470985e-05 9.99985053e-01]\n",
      " [9.55840270e-01 4.41597298e-02]\n",
      " [9.35802646e-01 6.41973542e-02]\n",
      " [3.11002480e-03 9.96889975e-01]\n",
      " [5.83884987e-05 9.99941612e-01]\n",
      " [9.96066037e-01 3.93396318e-03]\n",
      " [9.98095553e-01 1.90444700e-03]\n",
      " [9.02959349e-01 9.70406509e-02]\n",
      " [9.95686510e-01 4.31348973e-03]\n",
      " [1.74311805e-01 8.25688195e-01]\n",
      " [4.85863469e-02 9.51413653e-01]\n",
      " [1.00421516e-02 9.89957848e-01]\n",
      " [2.39680054e-04 9.99760320e-01]\n",
      " [1.25576651e-03 9.98744233e-01]\n",
      " [5.94163138e-06 9.99994058e-01]\n",
      " [9.49074596e-01 5.09254043e-02]\n",
      " [9.96015083e-01 3.98491654e-03]\n",
      " [2.45018838e-03 9.97549812e-01]\n",
      " [7.61369847e-01 2.38630153e-01]\n",
      " [9.60130786e-01 3.98692136e-02]\n",
      " [9.95038019e-01 4.96198052e-03]\n",
      " [9.91735748e-01 8.26425155e-03]\n",
      " [9.98805094e-01 1.19490599e-03]\n",
      " [9.93753086e-01 6.24691392e-03]\n",
      " [9.94538052e-01 5.46194842e-03]\n",
      " [8.92684638e-03 9.91073154e-01]\n",
      " [6.02958977e-04 9.99397041e-01]\n",
      " [5.64584860e-05 9.99943542e-01]\n",
      " [4.73234084e-01 5.26765916e-01]\n",
      " [9.77737184e-01 2.22628163e-02]\n",
      " [1.69462165e-04 9.99830538e-01]\n",
      " [9.97335479e-01 2.66452059e-03]\n",
      " [9.96251271e-01 3.74872853e-03]\n",
      " [9.89442483e-01 1.05575165e-02]\n",
      " [9.89329590e-01 1.06704102e-02]\n",
      " [9.98131854e-01 1.86814615e-03]\n",
      " [6.85003874e-03 9.93149961e-01]\n",
      " [9.94439612e-01 5.56038767e-03]\n",
      " [9.60837744e-01 3.91622562e-02]\n",
      " [7.12409055e-04 9.99287591e-01]\n",
      " [6.65495999e-03 9.93345040e-01]\n",
      " [9.97636698e-01 2.36330170e-03]\n",
      " [9.96386112e-03 9.90036139e-01]\n",
      " [4.25266630e-04 9.99574733e-01]\n",
      " [1.77680121e-03 9.98223199e-01]\n",
      " [1.36044574e-03 9.98639554e-01]\n",
      " [9.95199186e-01 4.80081450e-03]\n",
      " [6.53499717e-03 9.93465003e-01]\n",
      " [9.87055248e-01 1.29447524e-02]]\n"
     ]
    }
   ],
   "source": [
    "probability=model.predict_proba(test_x)\n",
    "print(probability)"
   ]
  },
  {
   "cell_type": "markdown",
   "id": "d8728375",
   "metadata": {},
   "source": [
    "## Model Building"
   ]
  },
  {
   "cell_type": "code",
   "execution_count": 25,
   "id": "cb8de5f0",
   "metadata": {},
   "outputs": [],
   "source": [
    "from sklearn.metrics import confusion_matrix"
   ]
  },
  {
   "cell_type": "code",
   "execution_count": 26,
   "id": "091e5a68",
   "metadata": {},
   "outputs": [
    {
     "data": {
      "text/plain": [
       "array([[75,  8],\n",
       "       [ 7, 50]], dtype=int64)"
      ]
     },
     "execution_count": 26,
     "metadata": {},
     "output_type": "execute_result"
    }
   ],
   "source": [
    "confusion_matrix(test_y,predicted_value)"
   ]
  }
 ],
 "metadata": {
  "kernelspec": {
   "display_name": "Python 3 (ipykernel)",
   "language": "python",
   "name": "python3"
  },
  "language_info": {
   "codemirror_mode": {
    "name": "ipython",
    "version": 3
   },
   "file_extension": ".py",
   "mimetype": "text/x-python",
   "name": "python",
   "nbconvert_exporter": "python",
   "pygments_lexer": "ipython3",
   "version": "3.9.7"
  }
 },
 "nbformat": 4,
 "nbformat_minor": 5
}
